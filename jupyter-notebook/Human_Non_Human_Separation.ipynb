{
 "cells": [
  {
   "cell_type": "code",
   "execution_count": 1,
   "metadata": {},
   "outputs": [],
   "source": [
    "import numpy as np\n",
    "import pandas as pd\n",
    "import xlrd\n",
    "\n",
    "import matplotlib.pyplot as plt\n",
    "from numpy.fft import fft, fftfreq, ifft, rfft\n",
    "\n",
    "def fft_from_data_frame(data_frame):\n",
    "    fs= 114e3\n",
    "    signal_set = []\n",
    "    for row in data_frame.values:\n",
    "        fft_data = fft(row, n=row.size)/row.size\n",
    "        freq = fftfreq(row.size, d=1/fs)\n",
    "        cut_high_signal = np.abs(fft_data).copy()\n",
    "        cut_high_signal[(freq > 50000)] = 0\n",
    "        cut_high_signal[(freq < 30000)] = 0\n",
    "        signal_without_0 = list(filter(lambda a: a != 0, cut_high_signal))\n",
    "        signal_set.append(np.abs(signal_without_0))\n",
    "    return signal_set"
   ]
  },
  {
   "cell_type": "code",
   "execution_count": 2,
   "metadata": {},
   "outputs": [],
   "source": [
    "import glob\n",
    "\n",
    "def get_fft_set(file_names):\n",
    "    fft_set = []\n",
    "    for front in file_names:\n",
    "        data = pd.read_csv(front)\n",
    "        fft_data = fft_from_data_frame(data)\n",
    "        fft_set = fft_data + fft_set\n",
    "    return fft_set\n",
    "\n",
    "car_front_1 = glob.glob('./Documents/data_set/Result/67_Ford_Black_front/*_overall.csv')\n",
    "car_front_2 = glob.glob('./Documents/data_set/Result/99_Fiesta_Purple_front/*_overall.csv')\n",
    "car_side_1 = glob.glob('./Documents/data_set/Result/99_Fiesta_Purple_side/*_overall.csv')\n",
    "car_side_2 = glob.glob('./Documents/data_set/Result/129_Skoda_Grey_side/*_overall.csv')\n",
    "car_back_1 = glob.glob('./Documents/data_set/Result/26_Ford_Black_back/*_overall.csv')\n",
    "car_back_2 = glob.glob('./Documents/data_set/Result/66_Ford_Purple_back/*_overall.csv')\n",
    "motorbike_1 = glob.glob('./Documents/data_set/Result/92_CBF_Honda_side1/*_overall.csv')\n",
    "motorbike_2 = glob.glob('./Documents/data_set/Result/92_CBF_Honda_side2/*_overall.csv')\n",
    "cycle_1 = glob.glob('./Documents/data_set/Result/Cycle_side/*_overall.csv')\n",
    "human_A = glob.glob('./Documents/data_set/Result/Human_A/*_overall.csv')\n",
    "human_B = glob.glob('./Documents/data_set/Result/Human_B/*_overall.csv')\n",
    "human_C = glob.glob('./Documents/data_set/Result/Human_C/*_overall.csv')\n",
    "human_D = glob.glob('./Documents/data_set/Result/Human_D/*_overall.csv')\n",
    "human_E = glob.glob('./Documents/data_set/Result/Human_E/*_overall.csv')\n",
    "pillar_1 = glob.glob('./Documents/data_set/Result/Pillar_1/*_overall.csv')\n",
    "pillar_2 = glob.glob('./Documents/data_set/Result/Pillar_2/*_overall.csv')\n",
    "pillar_3 = glob.glob('./Documents/data_set/Result/Pillar_3/*_overall.csv')\n",
    "stopper_1 = glob.glob('./Documents/data_set/Result/Stopper_1/*_overall.csv')\n",
    "stopper_2 = glob.glob('./Documents/data_set/Result/Stopper_2/*_overall.csv')\n",
    "# ventilator_1 = glob.glob('./Documents/data_set/Result/Ventilator_1/*_overall.csv')\n",
    "wall_1 = glob.glob('./Documents/data_set/Result/Wall_1/*_overall.csv')\n",
    "wall_2 = glob.glob('./Documents/data_set/Result/Wall_2/*_overall.csv')\n",
    "wall_3 = glob.glob('./Documents/data_set/Result/Wall_3/*_overall.csv')\n",
    "\n",
    "car_front_1_fft = get_fft_set(car_front_1)\n",
    "car_front_2_fft = get_fft_set(car_front_2)\n",
    "car_side_1_fft = get_fft_set(car_side_1)\n",
    "car_side_2_fft = get_fft_set(car_side_2)\n",
    "car_back_1_fft = get_fft_set(car_back_1)\n",
    "car_back_2_fft = get_fft_set(car_back_2)\n",
    "motorbike_1_fft = get_fft_set(motorbike_1)\n",
    "motorbike_2_fft = get_fft_set(motorbike_2)\n",
    "cycle_1_fft = get_fft_set(cycle_1)\n",
    "human_A_fft = get_fft_set(human_A)\n",
    "human_B_fft = get_fft_set(human_B)\n",
    "human_C_fft = get_fft_set(human_C)\n",
    "human_D_fft = get_fft_set(human_D)\n",
    "human_E_fft = get_fft_set(human_E)\n",
    "pillar_1_fft = get_fft_set(pillar_1)\n",
    "pillar_2_fft = get_fft_set(pillar_2)\n",
    "pillar_3_fft = get_fft_set(pillar_3)\n",
    "stopper_1_fft = get_fft_set(stopper_1)\n",
    "stopper_2_fft = get_fft_set(stopper_2)\n",
    "# ventilator_1_fft = get_fft_set(ventilator_1)\n",
    "wall_1_fft = get_fft_set(wall_1)\n",
    "wall_2_fft = get_fft_set(wall_2)\n",
    "wall_3_fft = get_fft_set(wall_3)"
   ]
  },
  {
   "cell_type": "code",
   "execution_count": 43,
   "metadata": {},
   "outputs": [
    {
     "name": "stdout",
     "output_type": "stream",
     "text": [
      "Human: 1690\n"
     ]
    }
   ],
   "source": [
    "car = car_front_1_fft + car_front_2_fft + car_side_1_fft + car_side_2_fft + car_back_1_fft + car_back_2_fft\n",
    "motorbike = motorbike_1_fft + motorbike_2_fft\n",
    "cycle = cycle_1_fft\n",
    "human = human_A_fft + human_B_fft + human_C_fft + human_D_fft + human_E_fft\n",
    "pillar = pillar_1_fft + pillar_2_fft + pillar_2_fft\n",
    "stopper = stopper_1_fft + stopper_2_fft\n",
    "# ventilator = ventilator_1_fft\n",
    "wall = wall_1_fft + wall_2_fft + wall_3_fft\n",
    " \n",
    "# print(\"Car:\", len(car))\n",
    "# print(\"Mototrbike:\", len(motorbike))\n",
    "# print(\"Cycle:\", len(cycle))\n",
    "print(\"Human:\", len(human))\n",
    "# print(\"Pillar:\", len(pillar))\n",
    "# print(\"Stopper:\", len(stopper))\n",
    "# # print(\"Ventilator:\", len(ventilator))\n",
    "# print(\"Wall:\", len(wall))"
   ]
  },
  {
   "cell_type": "code",
   "execution_count": 4,
   "metadata": {},
   "outputs": [],
   "source": [
    "from sklearn.model_selection import train_test_split\n",
    "def split(X_, index):\n",
    "    y_ = [index]*len(X_)\n",
    "    return train_test_split(X_, y_, test_size=0.40, random_state=42)"
   ]
  },
  {
   "cell_type": "code",
   "execution_count": 5,
   "metadata": {},
   "outputs": [],
   "source": [
    "X_Human_train, X_Human_test, y_Human_train, y_Human_test = split(human, 'HUMAN')\n",
    "Non_Human = car + motorbike + cycle + pillar + stopper + wall\n",
    "X_Non_Human_train, X_Non_Human_test, y_Non_Human_train, y_Non_Human_test = split(Non_Human, 'NOT HUMAN')\n",
    "\n",
    "X_Human_Non_Human_train = X_Human_train + X_Non_Human_train\n",
    "y_Human_Non_Human_train = y_Human_train + y_Non_Human_train\n",
    "\n",
    "X_Human_Non_Human_test = X_Human_test + X_Non_Human_test\n",
    "y_Human_Non_Human_test = y_Human_test + y_Non_Human_test\n",
    "\n",
    "from sklearn import preprocessing\n",
    "normalized_X_Human_Non_Human_train = preprocessing.normalize(X_Human_Non_Human_train)\n",
    "normalized_X_Human_Non_Human_train = preprocessing.scale(normalized_X_Human_Non_Human_train)\n",
    "\n",
    "normalized_X_Human_Non_Human_test = preprocessing.normalize(X_Human_Non_Human_test)\n",
    "normalized_X_Human_Non_Human_test = preprocessing.scale(normalized_X_Human_Non_Human_test)"
   ]
  },
  {
   "cell_type": "code",
   "execution_count": 7,
   "metadata": {},
   "outputs": [
    {
     "name": "stdout",
     "output_type": "stream",
     "text": [
      "X train data :  (19629, 90)\n",
      "y train data :  (19629,)\n",
      "X test data :  (13086, 90)\n",
      "y test data :  (13086,)\n"
     ]
    }
   ],
   "source": [
    "print('X train data : ',np.array(X_Human_Non_Human_train).shape)\n",
    "print('y train data : ',np.array(y_Human_Non_Human_train).shape)\n",
    "print('X test data : ',np.array(X_Human_Non_Human_test).shape)\n",
    "print('y test data : ',np.array(y_Human_Non_Human_test).shape)"
   ]
  },
  {
   "cell_type": "code",
   "execution_count": 38,
   "metadata": {},
   "outputs": [],
   "source": [
    "from sklearn.metrics import confusion_matrix\n",
    "from sklearn.metrics import accuracy_score, confusion_matrix\n",
    "\n",
    "def create_confusion_matrix(result, y_test):\n",
    "    cm = confusion_matrix(result, y_test)\n",
    "    import seaborn as sns\n",
    "    import matplotlib.pyplot as plt     \n",
    "    sum = np.sum(cm, axis=1)\n",
    "    score = accuracy_score(result, y_test)\n",
    "\n",
    "    from sklearn.metrics import precision_score, recall_score, f1_score\n",
    "    precision_CLASS_A = round(precision_score(y_test, result, average='binary',pos_label=labels[0]),2)\n",
    "    precision_CLASS_B = round(precision_score(y_test, result, average='binary',pos_label=labels[1]),2)\n",
    "    recall_CLASS_A = round(recall_score(y_test, result, average='binary',pos_label=labels[0]),2)\n",
    "    recall_CLASS_B = round(recall_score(y_test, result, average='binary',pos_label=labels[1]),2)\n",
    "    f1_CLASS_A = round(f1_score(y_test, result, average='binary',pos_label=labels[0]),2)\n",
    "    f1_CLASS_B = round(f1_score(y_test, result, average='binary',pos_label=labels[1]),2)\n",
    "    f1_average = round((f1_CLASS_A + f1_CLASS_B)/2, 2);\n",
    "    print('Precision: Class A',precision_CLASS_A)\n",
    "    print('Precision: Class B',precision_CLASS_B)\n",
    "    print('Recall: Class A',recall_CLASS_A)\n",
    "    print('Recall: Class B',recall_CLASS_B)\n",
    "    print('F1-Score: Class A',f1_CLASS_A)\n",
    "    print('F1-Score: Class B',f1_CLASS_B)\n",
    "    print('Average F1-score:', f1_average)\n",
    "\n",
    "    cm_new = np.append(cm[0], precision_CLASS_A)\n",
    "    cm_new2 = np.append(cm[1], precision_CLASS_B)\n",
    "    cm_new3 = np.array([recall_CLASS_A, recall_CLASS_B, score])\n",
    "    cm = np.array([cm_new,cm_new2,cm_new3])\n",
    "\n",
    "\n",
    "    fig, ax = plt.subplots(figsize=(10,10))\n",
    "    sns.heatmap(cm, annot=True, ax = ax,linewidths=.5,fmt='g',cmap=\"Reds\"); #annot=True to annotate cells\n",
    "\n",
    "    # labels, title and ticks\n",
    "    ax.set_xlabel('Predicted labels');\n",
    "    ax.set_ylabel('True labels'); \n",
    "    ax.set_title('Confusion Matrix'); \n",
    "    counter = 0\n",
    "    for i in range(0,2):\n",
    "        for j in range(0,3):\n",
    "            percentage = cm[i][j]/sum[i]\n",
    "            t = ax.texts[counter]\n",
    "            if j == 2:\n",
    "                t.set_text(str(cm[i][j]))\n",
    "            else:\n",
    "                t.set_text(str(cm[i][j]) + '\\n' + str(round(percentage*100,2)) + \" %\")\n",
    "            counter = counter + 1\n",
    "\n",
    "    ax.xaxis.set_ticklabels(labels)\n",
    "    ax.yaxis.set_ticklabels(labels);"
   ]
  },
  {
   "cell_type": "code",
   "execution_count": 39,
   "metadata": {},
   "outputs": [
    {
     "name": "stdout",
     "output_type": "stream",
     "text": [
      "[[  220    71]\n",
      " [  456 12339]]\n",
      "Accuracy:  0.9597279535381323\n",
      "Precision: Class A 0.76\n",
      "Precision: Class B 0.96\n",
      "Recall: Class A 0.33\n",
      "Recall: Class B 0.99\n",
      "F1-Score: Class A 0.46\n",
      "F1-Score: Class B 0.98\n",
      "Average F1-score: 0.72\n"
     ]
    },
    {
     "data": {
      "image/png": "[encoded data removed]",
      "text/plain": [
       "<Figure size 720x720 with 2 Axes>"
      ]
     },
     "metadata": {
      "needs_background": "light"
     },
     "output_type": "display_data"
    }
   ],
   "source": [
    "from sklearn.ensemble import RandomForestClassifier\n",
    "\n",
    "clf = RandomForestClassifier(n_jobs=2, random_state=0, n_estimators=100)\n",
    "clf.fit(normalized_X_Human_Non_Human_train, y_Human_Non_Human_train)\n",
    "result = clf.predict(normalized_X_Human_Non_Human_test)\n",
    "\n",
    "cm = confusion_matrix(result, y_Human_Non_Human_test)\n",
    "print(cm)\n",
    "print(\"Accuracy: \",accuracy_score(result, y_Human_Non_Human_test))\n",
    "labels = ['HUMAN', 'NOT HUMAN']\n",
    "create_confusion_matrix(result, y_Human_Non_Human_test)"
   ]
  },
  {
   "cell_type": "code",
   "execution_count": 40,
   "metadata": {},
   "outputs": [
    {
     "name": "stdout",
     "output_type": "stream",
     "text": [
      "[[  159    48]\n",
      " [  517 12362]]\n",
      "0.9568240868103316\n",
      "Precision: Class A 0.77\n",
      "Precision: Class B 0.96\n",
      "Recall: Class A 0.24\n",
      "Recall: Class B 1.0\n",
      "F1-Score: Class A 0.36\n",
      "F1-Score: Class B 0.98\n",
      "Average F1-score: 0.67\n"
     ]
    },
    {
     "data": {
      "image/png": "[encoded data removed]",
      "text/plain": [
       "<Figure size 720x720 with 2 Axes>"
      ]
     },
     "metadata": {
      "needs_background": "light"
     },
     "output_type": "display_data"
    }
   ],
   "source": [
    "from sklearn.neighbors import KNeighborsClassifier\n",
    "\n",
    "clf = KNeighborsClassifier(n_neighbors=5)\n",
    "clf.fit(normalized_X_Human_Non_Human_train, y_Human_Non_Human_train)\n",
    "# print('\\nThe number of neighbors used to predict the target : ',clf.n_neighbors)\n",
    "result = clf.predict(normalized_X_Human_Non_Human_test)\n",
    "\n",
    "cm = confusion_matrix(result, y_Human_Non_Human_test)\n",
    "print(cm)\n",
    "print(accuracy_score(result, y_Human_Non_Human_test))\n",
    "labels = ['HUMAN', 'NOT HUMAN']\n",
    "create_confusion_matrix(result, y_Human_Non_Human_test)"
   ]
  },
  {
   "cell_type": "code",
   "execution_count": 50,
   "metadata": {},
   "outputs": [],
   "source": [
    "# counter = 0\n",
    "# counter_non_human = 0\n",
    "# for a in y_Human_Non_Human_test:\n",
    "#     if a == 'HUMAN':\n",
    "#         counter += 1;\n",
    "#     else:\n",
    "#         counter_non_human += 1;\n",
    "    "
   ]
  },
  {
   "cell_type": "code",
   "execution_count": null,
   "metadata": {},
   "outputs": [],
   "source": []
  }
 ],
 "metadata": {
  "kernelspec": {
   "display_name": "Python 3",
   "language": "python",
   "name": "python3"
  },
  "language_info": {
   "codemirror_mode": {
    "name": "ipython",
    "version": 3
   },
   "file_extension": ".py",
   "mimetype": "text/x-python",
   "name": "python",
   "nbconvert_exporter": "python",
   "pygments_lexer": "ipython3",
   "version": "3.7.2"
  }
 },
 "nbformat": 4,
 "nbformat_minor": 2
}
