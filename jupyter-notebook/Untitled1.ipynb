{
 "cells": [
  {
   "cell_type": "code",
   "execution_count": 94,
   "metadata": {},
   "outputs": [
    {
     "name": "stdout",
     "output_type": "stream",
     "text": [
      "../data/car/67_Ford_Black_front/Front_80/6.csv\n",
      "../data/car/67_Ford_Black_front/Front_80/7.csv\n",
      "../data/car/67_Ford_Black_front/Front_80/5.csv\n",
      "../data/car/67_Ford_Black_front/Front_80/4.csv\n",
      "../data/car/67_Ford_Black_front/Front_80/1.csv\n",
      "../data/car/67_Ford_Black_front/Front_80/3.csv\n",
      "../data/car/67_Ford_Black_front/Front_80/2.csv\n",
      "../data/car/67_Ford_Black_front/Front_80/9.csv\n",
      "../data/car/67_Ford_Black_front/Front_80/8.csv\n",
      "../data/car/67_Ford_Black_front/Front_90/6.csv\n",
      "../data/car/67_Ford_Black_front/Front_90/7.csv\n",
      "../data/car/67_Ford_Black_front/Front_90/5.csv\n",
      "../data/car/67_Ford_Black_front/Front_90/4.csv\n",
      "../data/car/67_Ford_Black_front/Front_90/1.csv\n",
      "../data/car/67_Ford_Black_front/Front_90/3.csv\n",
      "../data/car/67_Ford_Black_front/Front_90/2.csv\n",
      "../data/car/67_Ford_Black_front/Front_90/9.csv\n",
      "../data/car/67_Ford_Black_front/Front_90/8.csv\n",
      "../data/car/67_Ford_Black_front/Front_100/6.csv\n",
      "../data/car/67_Ford_Black_front/Front_100/7.csv\n",
      "../data/car/67_Ford_Black_front/Front_100/5.csv\n",
      "../data/car/67_Ford_Black_front/Front_100/4.csv\n",
      "../data/car/67_Ford_Black_front/Front_100/1.csv\n",
      "../data/car/67_Ford_Black_front/Front_100/3.csv\n",
      "../data/car/67_Ford_Black_front/Front_100/2.csv\n",
      "../data/car/67_Ford_Black_front/Front_100/9.csv\n",
      "../data/car/67_Ford_Black_front/Front_100/8.csv\n",
      "../data/car/67_Ford_Black_front/Front_110/6.csv\n",
      "../data/car/67_Ford_Black_front/Front_110/7.csv\n",
      "../data/car/67_Ford_Black_front/Front_110/5.csv\n",
      "../data/car/67_Ford_Black_front/Front_110/4.csv\n",
      "../data/car/67_Ford_Black_front/Front_110/1.csv\n",
      "../data/car/67_Ford_Black_front/Front_110/3.csv\n",
      "../data/car/67_Ford_Black_front/Front_110/2.csv\n",
      "../data/car/67_Ford_Black_front/Front_110/9.csv\n",
      "../data/car/67_Ford_Black_front/Front_110/8.csv\n",
      "../data/car/67_Ford_Black_front/Front_120/6.csv\n",
      "../data/car/67_Ford_Black_front/Front_120/7.csv\n",
      "../data/car/67_Ford_Black_front/Front_120/5.csv\n",
      "../data/car/67_Ford_Black_front/Front_120/4.csv\n",
      "../data/car/67_Ford_Black_front/Front_120/1.csv\n",
      "../data/car/67_Ford_Black_front/Front_120/3.csv\n",
      "../data/car/67_Ford_Black_front/Front_120/2.csv\n",
      "../data/car/67_Ford_Black_front/Front_120/9.csv\n",
      "../data/car/67_Ford_Black_front/Front_120/8.csv\n",
      "../data/car/67_Ford_Black_front/Front_130/6.csv\n",
      "../data/car/67_Ford_Black_front/Front_130/7.csv\n",
      "../data/car/67_Ford_Black_front/Front_130/5.csv\n",
      "../data/car/67_Ford_Black_front/Front_130/4.csv\n",
      "../data/car/67_Ford_Black_front/Front_130/1.csv\n",
      "../data/car/67_Ford_Black_front/Front_130/3.csv\n",
      "../data/car/67_Ford_Black_front/Front_130/2.csv\n",
      "../data/car/67_Ford_Black_front/Front_130/9.csv\n",
      "../data/car/67_Ford_Black_front/Front_130/8.csv\n",
      "../data/car/67_Ford_Black_front/Front_140/6.csv\n",
      "../data/car/67_Ford_Black_front/Front_140/7.csv\n",
      "../data/car/67_Ford_Black_front/Front_140/5.csv\n",
      "../data/car/67_Ford_Black_front/Front_140/4.csv\n",
      "../data/car/67_Ford_Black_front/Front_140/1.csv\n",
      "../data/car/67_Ford_Black_front/Front_140/3.csv\n",
      "../data/car/67_Ford_Black_front/Front_140/2.csv\n",
      "../data/car/67_Ford_Black_front/Front_140/9.csv\n",
      "../data/car/67_Ford_Black_front/Front_140/8.csv\n",
      "../data/car/67_Ford_Black_front/Front_150/6.csv\n",
      "../data/car/67_Ford_Black_front/Front_150/7.csv\n",
      "../data/car/67_Ford_Black_front/Front_150/5.csv\n",
      "../data/car/67_Ford_Black_front/Front_150/4.csv\n",
      "../data/car/67_Ford_Black_front/Front_150/1.csv\n",
      "../data/car/67_Ford_Black_front/Front_150/3.csv\n",
      "../data/car/67_Ford_Black_front/Front_150/2.csv\n",
      "../data/car/67_Ford_Black_front/Front_150/9.csv\n",
      "../data/car/67_Ford_Black_front/Front_150/8.csv\n"
     ]
    },
    {
     "ename": "FileNotFoundError",
     "evalue": "[Errno 2] No such file or directory: '../data/car/67_Ford_Black_front/Front_160/overall.csv'",
     "output_type": "error",
     "traceback": [
      "\u001b[0;31m---------------------------------------------------------------------------\u001b[0m",
      "\u001b[0;31mFileNotFoundError\u001b[0m                         Traceback (most recent call last)",
      "\u001b[0;32m<ipython-input-94-53f995a32d80>\u001b[0m in \u001b[0;36m<module>\u001b[0;34m\u001b[0m\n\u001b[1;32m     15\u001b[0m             \u001b[0mdata_set\u001b[0m \u001b[0;34m=\u001b[0m \u001b[0md\u001b[0m\u001b[0;34m.\u001b[0m\u001b[0mvalues\u001b[0m\u001b[0;34m\u001b[0m\u001b[0;34m\u001b[0m\u001b[0m\n\u001b[1;32m     16\u001b[0m     \u001b[0mdfObj\u001b[0m \u001b[0;34m=\u001b[0m \u001b[0mpd\u001b[0m\u001b[0;34m.\u001b[0m\u001b[0mDataFrame\u001b[0m\u001b[0;34m(\u001b[0m\u001b[0mdata_set\u001b[0m\u001b[0;34m)\u001b[0m\u001b[0;34m\u001b[0m\u001b[0;34m\u001b[0m\u001b[0m\n\u001b[0;32m---> 17\u001b[0;31m     \u001b[0mdfObj\u001b[0m\u001b[0;34m.\u001b[0m\u001b[0mto_csv\u001b[0m\u001b[0;34m(\u001b[0m\u001b[0;34mf'../data/car/67_Ford_Black_front/{b}/overall.csv'\u001b[0m\u001b[0;34m)\u001b[0m\u001b[0;34m\u001b[0m\u001b[0;34m\u001b[0m\u001b[0m\n\u001b[0m",
      "\u001b[0;32m~/miniconda3/envs/uni_project/lib/python3.7/site-packages/pandas/core/generic.py\u001b[0m in \u001b[0;36mto_csv\u001b[0;34m(self, path_or_buf, sep, na_rep, float_format, columns, header, index, index_label, mode, encoding, compression, quoting, quotechar, line_terminator, chunksize, tupleize_cols, date_format, doublequote, escapechar, decimal)\u001b[0m\n\u001b[1;32m   3008\u001b[0m                                  \u001b[0mdoublequote\u001b[0m\u001b[0;34m=\u001b[0m\u001b[0mdoublequote\u001b[0m\u001b[0;34m,\u001b[0m\u001b[0;34m\u001b[0m\u001b[0;34m\u001b[0m\u001b[0m\n\u001b[1;32m   3009\u001b[0m                                  escapechar=escapechar, decimal=decimal)\n\u001b[0;32m-> 3010\u001b[0;31m         \u001b[0mformatter\u001b[0m\u001b[0;34m.\u001b[0m\u001b[0msave\u001b[0m\u001b[0;34m(\u001b[0m\u001b[0;34m)\u001b[0m\u001b[0;34m\u001b[0m\u001b[0;34m\u001b[0m\u001b[0m\n\u001b[0m\u001b[1;32m   3011\u001b[0m \u001b[0;34m\u001b[0m\u001b[0m\n\u001b[1;32m   3012\u001b[0m         \u001b[0;32mif\u001b[0m \u001b[0mpath_or_buf\u001b[0m \u001b[0;32mis\u001b[0m \u001b[0;32mNone\u001b[0m\u001b[0;34m:\u001b[0m\u001b[0;34m\u001b[0m\u001b[0;34m\u001b[0m\u001b[0m\n",
      "\u001b[0;32m~/miniconda3/envs/uni_project/lib/python3.7/site-packages/pandas/io/formats/csvs.py\u001b[0m in \u001b[0;36msave\u001b[0;34m(self)\u001b[0m\n\u001b[1;32m    155\u001b[0m             f, handles = _get_handle(self.path_or_buf, self.mode,\n\u001b[1;32m    156\u001b[0m                                      \u001b[0mencoding\u001b[0m\u001b[0;34m=\u001b[0m\u001b[0mself\u001b[0m\u001b[0;34m.\u001b[0m\u001b[0mencoding\u001b[0m\u001b[0;34m,\u001b[0m\u001b[0;34m\u001b[0m\u001b[0;34m\u001b[0m\u001b[0m\n\u001b[0;32m--> 157\u001b[0;31m                                      compression=self.compression)\n\u001b[0m\u001b[1;32m    158\u001b[0m             \u001b[0mclose\u001b[0m \u001b[0;34m=\u001b[0m \u001b[0;32mTrue\u001b[0m\u001b[0;34m\u001b[0m\u001b[0;34m\u001b[0m\u001b[0m\n\u001b[1;32m    159\u001b[0m \u001b[0;34m\u001b[0m\u001b[0m\n",
      "\u001b[0;32m~/miniconda3/envs/uni_project/lib/python3.7/site-packages/pandas/io/common.py\u001b[0m in \u001b[0;36m_get_handle\u001b[0;34m(path_or_buf, mode, encoding, compression, memory_map, is_text)\u001b[0m\n\u001b[1;32m    422\u001b[0m         \u001b[0;32melif\u001b[0m \u001b[0mencoding\u001b[0m\u001b[0;34m:\u001b[0m\u001b[0;34m\u001b[0m\u001b[0;34m\u001b[0m\u001b[0m\n\u001b[1;32m    423\u001b[0m             \u001b[0;31m# Python 3 and encoding\u001b[0m\u001b[0;34m\u001b[0m\u001b[0;34m\u001b[0m\u001b[0;34m\u001b[0m\u001b[0m\n\u001b[0;32m--> 424\u001b[0;31m             \u001b[0mf\u001b[0m \u001b[0;34m=\u001b[0m \u001b[0mopen\u001b[0m\u001b[0;34m(\u001b[0m\u001b[0mpath_or_buf\u001b[0m\u001b[0;34m,\u001b[0m \u001b[0mmode\u001b[0m\u001b[0;34m,\u001b[0m \u001b[0mencoding\u001b[0m\u001b[0;34m=\u001b[0m\u001b[0mencoding\u001b[0m\u001b[0;34m,\u001b[0m \u001b[0mnewline\u001b[0m\u001b[0;34m=\u001b[0m\u001b[0;34m\"\"\u001b[0m\u001b[0;34m)\u001b[0m\u001b[0;34m\u001b[0m\u001b[0;34m\u001b[0m\u001b[0m\n\u001b[0m\u001b[1;32m    425\u001b[0m         \u001b[0;32melif\u001b[0m \u001b[0mis_text\u001b[0m\u001b[0;34m:\u001b[0m\u001b[0;34m\u001b[0m\u001b[0;34m\u001b[0m\u001b[0m\n\u001b[1;32m    426\u001b[0m             \u001b[0;31m# Python 3 and no explicit encoding\u001b[0m\u001b[0;34m\u001b[0m\u001b[0;34m\u001b[0m\u001b[0;34m\u001b[0m\u001b[0m\n",
      "\u001b[0;31mFileNotFoundError\u001b[0m: [Errno 2] No such file or directory: '../data/car/67_Ford_Black_front/Front_160/overall.csv'"
     ]
    }
   ],
   "source": [
    "import pandas as pd\n",
    "import glob\n",
    "back_folder = []\n",
    "for b in range(80,190,10):\n",
    "    back_folder.append(f'Front_{b}')\n",
    "for b in back_folder:\n",
    "    motorbike_80_files = glob.glob(f'../data/car/67_Ford_Black_front/{b}/*.csv')\n",
    "    for file_name in motorbike_80_files:\n",
    "        d = pd.read_csv(file_name, skiprows=[0], header=None)\n",
    "        d = d.iloc[:, 9:]\n",
    "        print(file_name)\n",
    "        if data_set is not None:\n",
    "            data_set = np.concatenate((data_set, d.values), axis=0)\n",
    "        else:\n",
    "            data_set = d.values\n",
    "    dfObj = pd.DataFrame(data_set)\n",
    "    dfObj.to_csv(f'../data/car/67_Ford_Black_front/{b}/overall.csv')"
   ]
  },
  {
   "cell_type": "code",
   "execution_count": 89,
   "metadata": {},
   "outputs": [
    {
     "data": {
      "text/plain": [
       "['Back_80',\n",
       " 'Back_90',\n",
       " 'Back_100',\n",
       " 'Back_110',\n",
       " 'Back_120',\n",
       " 'Back_130',\n",
       " 'Back_140',\n",
       " 'Back_150',\n",
       " 'Back_160',\n",
       " 'Back_170',\n",
       " 'Back_180']"
      ]
     },
     "execution_count": 89,
     "metadata": {},
     "output_type": "execute_result"
    }
   ],
   "source": []
  },
  {
   "cell_type": "code",
   "execution_count": 80,
   "metadata": {},
   "outputs": [
    {
     "name": "stdout",
     "output_type": "stream",
     "text": [
      "../data/car/26_Ford_Black_back/Back_80/6.csv (31, 5698)\n",
      "../data/car/26_Ford_Black_back/Back_80/7.csv (31, 5698)\n",
      "../data/car/26_Ford_Black_back/Back_80/5.csv (35, 5698)\n",
      "../data/car/26_Ford_Black_back/Back_80/4.csv (32, 5698)\n",
      "../data/car/26_Ford_Black_back/Back_80/1.csv (29, 5698)\n",
      "../data/car/26_Ford_Black_back/Back_80/3.csv (34, 5698)\n",
      "../data/car/26_Ford_Black_back/Back_80/2.csv (40, 5698)\n",
      "../data/car/26_Ford_Black_back/Back_80/9.csv (34, 5698)\n",
      "../data/car/26_Ford_Black_back/Back_80/8.csv (31, 5698)\n"
     ]
    }
   ],
   "source": [
    "for file_name in motorbike_80_files:\n",
    "    d = pd.read_csv(file_name, skiprows=[0], header=None)\n",
    "    d = d.iloc[:, 9:]\n",
    "    print(file_name,d.values.shape)\n",
    "    "
   ]
  },
  {
   "cell_type": "code",
   "execution_count": 82,
   "metadata": {},
   "outputs": [
    {
     "data": {
      "text/plain": [
       "297"
      ]
     },
     "execution_count": 82,
     "metadata": {},
     "output_type": "execute_result"
    }
   ],
   "source": [
    "len(data_set)"
   ]
  },
  {
   "cell_type": "code",
   "execution_count": 83,
   "metadata": {},
   "outputs": [],
   "source": []
  },
  {
   "cell_type": "code",
   "execution_count": 85,
   "metadata": {},
   "outputs": [],
   "source": []
  },
  {
   "cell_type": "code",
   "execution_count": null,
   "metadata": {},
   "outputs": [],
   "source": []
  }
 ],
 "metadata": {
  "kernelspec": {
   "display_name": "Python 3",
   "language": "python",
   "name": "python3"
  },
  "language_info": {
   "codemirror_mode": {
    "name": "ipython",
    "version": 3
   },
   "file_extension": ".py",
   "mimetype": "text/x-python",
   "name": "python",
   "nbconvert_exporter": "python",
   "pygments_lexer": "ipython3",
   "version": "3.7.2"
  }
 },
 "nbformat": 4,
 "nbformat_minor": 2
}
