{
 "cells": [
  {
   "cell_type": "code",
   "execution_count": 38,
   "metadata": {},
   "outputs": [],
   "source": [
    "import numpy as np\n",
    "import pandas as pd\n",
    "import xlrd\n",
    "\n",
    "import matplotlib.pyplot as plt\n",
    "from numpy.fft import fft, fftfreq, ifft, rfft\n",
    "\n",
    "def fft_from_data_frame(data_frame):\n",
    "    fs = 114 * 1000 #114KHZ\n",
    "    signal_set = []\n",
    "    for row in data_frame.values:\n",
    "        fft_data = fft(row, n=row.size)/row.size\n",
    "        freq = fftfreq(row.size, d=1/fs)\n",
    "        cut_high_signal = np.abs(fft_data).copy()\n",
    "        cut_high_signal[(freq > 50000)] = 0\n",
    "        cut_high_signal[(freq < 30000)] = 0\n",
    "        signal_without_0 = list(filter(lambda a: a != 0, cut_high_signal))\n",
    "        signal_set.append(np.abs(signal_without_0))\n",
    "    return signal_set\n",
    "\n",
    "def custom_normalization(X_set):\n",
    "    new_X_set = []\n",
    "    for X in X_set:\n",
    "        min = np.min(X)\n",
    "        max = np.max(X)\n",
    "        value = max - min\n",
    "        data_set = []\n",
    "        for data in X:\n",
    "           data_set.append(((data - min) / value) + 0)\n",
    "        new_X_set.append(data_set)\n",
    "    return new_X_set\n",
    "\n",
    "import seaborn as sns\n",
    "from sklearn.metrics import accuracy_score, confusion_matrix, precision_score, recall_score, f1_score\n",
    "import matplotlib.pyplot as plt  \n",
    "\n",
    "# def plot_confusionMatrix(result, y_test, labels = ['CAR', 'MOTORBIKE', 'CYCLE', 'HUMAN', 'PILLAR', 'STOPPER', 'WALL']):\n",
    "#     cm = confusion_matrix(result, y_test)\n",
    "#     print(cm)\n",
    "#     recall_set = []\n",
    "#     cm_overall = []\n",
    "#     F1_SCORE_Overall = 0\n",
    "#     for index, value in enumerate(labels):\n",
    "# #         print(index, labels[index])\n",
    "#         precision = round(precision_score(y_test, result, average='micro',labels=labels[index]),2)\n",
    "#         recall = round(recall_score(y_test, result, average='micro',labels=labels[index]),2)\n",
    "#         F1_SCORE = round(f1_score(y_test, result, average='micro',labels=labels[index]),2)\n",
    "#         print(value,\"_F1-score:\", F1_SCORE)\n",
    "        \n",
    "#         recall_set.append(recall)\n",
    "#         cm_overall.append(np.append(cm[index], precision))\n",
    "        \n",
    "#     score = accuracy_score(result, y_test)\n",
    "#     cm_overall.append(np.append(recall_set, score))\n",
    "# #     print(recall_set, cm_overall) \n",
    "#     sum = np.sum(cm, axis=1)\n",
    "#     cm = cm_overall   \n",
    "    \n",
    "#     fig, ax = plt.subplots(figsize=(10,10))\n",
    "#     sns.heatmap(cm, annot=True, ax = ax,linewidths=.5,fmt='g',cmap=\"Greens\"); #annot=True to annotate cells\n",
    "\n",
    "#     # labels, title and ticks\n",
    "#     ax.set_xlabel('Predicted labels');\n",
    "#     ax.set_ylabel('True labels'); \n",
    "#     ax.set_title('Confusion Matrix'); \n",
    "#     counter = 0\n",
    "#     for i in range(0,len(labels)):\n",
    "#         for j in range(0,len(labels)+1):\n",
    "#             percentage = cm[i][j]/sum[i]\n",
    "#             t = ax.texts[counter]\n",
    "#             if j == len(labels) :\n",
    "#                 t.set_text(str(cm[i][j]))\n",
    "#             else:\n",
    "#                 t.set_text(str(cm[i][j]) + '\\n' + str(round(percentage*100,2)) + \" %\")\n",
    "#             counter = counter + 1\n",
    "#     ax.xaxis.set_ticklabels(labels); \n",
    "#     ax.yaxis.set_ticklabels(labels);\n",
    "\n",
    "def create_confusion_matrix(result, y_test, labels):\n",
    "    cm = confusion_matrix(result, y_test)\n",
    "    import seaborn as sns\n",
    "    import matplotlib.pyplot as plt     \n",
    "    sum = np.sum(cm, axis=1)\n",
    "    score = accuracy_score(result, y_test)\n",
    "\n",
    "    from sklearn.metrics import precision_score, recall_score, f1_score\n",
    "    precision_CLASS_A = round(precision_score(y_test, result, average='binary',pos_label=labels[0]),2)\n",
    "    precision_CLASS_B = round(precision_score(y_test, result, average='binary',pos_label=labels[1]),2)\n",
    "    recall_CLASS_A = round(recall_score(y_test, result, average='binary',pos_label=labels[0]),2)\n",
    "    recall_CLASS_B = round(recall_score(y_test, result, average='binary',pos_label=labels[1]),2)\n",
    "    f1_CLASS_A = round(f1_score(y_test, result, average='binary',pos_label=labels[0]),2)\n",
    "    f1_CLASS_B = round(f1_score(y_test, result, average='binary',pos_label=labels[1]),2)\n",
    "    f1_average = round((f1_CLASS_A + f1_CLASS_B)/2, 2);\n",
    "    print('Precision: Class A',precision_CLASS_A)\n",
    "    print('Precision: Class B',precision_CLASS_B)\n",
    "    print('Recall: Class A',recall_CLASS_A)\n",
    "    print('Recall: Class B',recall_CLASS_B)\n",
    "    print('F1-Score: Class A',f1_CLASS_A)\n",
    "    print('F1-Score: Class B',f1_CLASS_B)\n",
    "    print('Average F1-score:', f1_average)\n",
    "\n",
    "    cm_new = np.append(cm[0], precision_CLASS_A)\n",
    "    cm_new2 = np.append(cm[1], precision_CLASS_B)\n",
    "    cm_new3 = np.array([recall_CLASS_A, recall_CLASS_B, score])\n",
    "    cm = np.array([cm_new,cm_new2,cm_new3])\n",
    "\n",
    "\n",
    "    fig, ax = plt.subplots(figsize=(10,10))\n",
    "    sns.heatmap(cm, annot=True, ax = ax,linewidths=.5,fmt='g',cmap=\"Reds\"); #annot=True to annotate cells\n",
    "\n",
    "    # labels, title and ticks\n",
    "    ax.set_xlabel('Predicted labels');\n",
    "    ax.set_ylabel('True labels'); \n",
    "    ax.set_title('Confusion Matrix'); \n",
    "    counter = 0\n",
    "    for i in range(0,2):\n",
    "        for j in range(0,3):\n",
    "            percentage = cm[i][j]/sum[i]\n",
    "            t = ax.texts[counter]\n",
    "            if j == 2:\n",
    "                t.set_text(str(cm[i][j]))\n",
    "            else:\n",
    "                t.set_text(str(cm[i][j]) + '\\n' + str(round(percentage*100,2)) + \" %\")\n",
    "            counter = counter + 1\n",
    "\n",
    "    ax.xaxis.set_ticklabels(labels)\n",
    "    ax.yaxis.set_ticklabels(labels);\n",
    "        "
   ]
  },
  {
   "cell_type": "code",
   "execution_count": 39,
   "metadata": {},
   "outputs": [],
   "source": [
    "import glob\n",
    "\n",
    "def get_fft_set(file_names):\n",
    "    fft_set = []\n",
    "    for front in file_names:\n",
    "        data = pd.read_csv(front)\n",
    "        fft_data = fft_from_data_frame(data)\n",
    "        fft_set = fft_data + fft_set\n",
    "    return fft_set\n",
    "\n",
    "car_front_1 = glob.glob('../data/Result/67_Ford_Black_front/*_overall.csv')\n",
    "car_front_2 = glob.glob('../data/Result/99_Fiesta_Purple_front/*_overall.csv')\n",
    "car_side_1 = glob.glob('../data/Result/99_Fiesta_Purple_side/*_overall.csv')\n",
    "car_side_2 = glob.glob('../data/Result/129_Skoda_Grey_side/*_overall.csv')\n",
    "car_back_1 = glob.glob('../data/Result/26_Ford_Black_back/*_overall.csv')\n",
    "car_back_2 = glob.glob('../data/Result/66_Ford_Purple_back/*_overall.csv')\n",
    "motorbike_1 = glob.glob('../data/Result/92_CBF_Honda_side1/*_overall.csv')\n",
    "motorbike_2 = glob.glob('../data/Result/92_CBF_Honda_side2/*_overall.csv')\n",
    "cycle_1 = glob.glob('../data/Result/Cycle_side/*_overall.csv')\n",
    "human_A = glob.glob('../data/Result/Human_A/*_overall.csv')\n",
    "human_B = glob.glob('../data/Result/Human_B/*_overall.csv')\n",
    "human_C = glob.glob('../data/Result/Human_C/*_overall.csv')\n",
    "human_D = glob.glob('../data/Result/Human_D/*_overall.csv')\n",
    "human_E = glob.glob('../data/Result/Human_E/*_overall.csv')\n",
    "pillar_1 = glob.glob('../data/Result/Pillar_1/*_overall.csv')\n",
    "pillar_2 = glob.glob('../data/Result/Pillar_2/*_overall.csv')\n",
    "pillar_3 = glob.glob('../data/Result/Pillar_3/*_overall.csv')\n",
    "stopper_1 = glob.glob('../data/Result/Stopper_1/*_overall.csv')\n",
    "stopper_2 = glob.glob('../data/Result/Stopper_2/*_overall.csv')\n",
    "ventilator_1 = glob.glob('../data/Result/Ventilator_1/*_overall.csv')\n",
    "wall_1 = glob.glob('../data/Result/Wall_1/*_overall.csv')\n",
    "wall_2 = glob.glob('../data/Result/Wall_2/*_overall.csv')\n",
    "wall_3 = glob.glob('../data/Result/Wall_3/*_overall.csv')\n",
    "\n",
    "car_front_1_fft = get_fft_set(car_front_1)\n",
    "car_front_2_fft = get_fft_set(car_front_2)\n",
    "car_side_1_fft = get_fft_set(car_side_1)\n",
    "car_side_2_fft = get_fft_set(car_side_2)\n",
    "car_back_1_fft = get_fft_set(car_back_1)\n",
    "car_back_2_fft = get_fft_set(car_back_2)\n",
    "motorbike_1_fft = get_fft_set(motorbike_1)\n",
    "motorbike_2_fft = get_fft_set(motorbike_2)\n",
    "cycle_1_fft = get_fft_set(cycle_1)\n",
    "human_A_fft = get_fft_set(human_A)\n",
    "human_B_fft = get_fft_set(human_B)\n",
    "human_C_fft = get_fft_set(human_C)\n",
    "human_D_fft = get_fft_set(human_D)\n",
    "human_E_fft = get_fft_set(human_E)\n",
    "pillar_1_fft = get_fft_set(pillar_1)\n",
    "pillar_2_fft = get_fft_set(pillar_2)\n",
    "pillar_3_fft = get_fft_set(pillar_3)\n",
    "stopper_1_fft = get_fft_set(stopper_1)\n",
    "stopper_2_fft = get_fft_set(stopper_2)\n",
    "ventilator_1_fft= get_fft_set(ventilator_1)\n",
    "wall_1_fft = get_fft_set(wall_1)\n",
    "wall_2_fft = get_fft_set(wall_2)\n",
    "wall_3_fft = get_fft_set(wall_3)"
   ]
  },
  {
   "cell_type": "code",
   "execution_count": 40,
   "metadata": {},
   "outputs": [
    {
     "name": "stdout",
     "output_type": "stream",
     "text": [
      "Human:  1690\n",
      "Non Human:  31025\n"
     ]
    }
   ],
   "source": [
    "non_human = car_front_1_fft + car_front_2_fft + car_side_1_fft + car_side_2_fft + car_back_1_fft + car_back_2_fft\n",
    "non_human = non_human + motorbike_1_fft + motorbike_2_fft\n",
    "non_human = non_human + cycle_1_fft\n",
    "non_human = non_human + pillar_1_fft + pillar_2_fft + pillar_2_fft\n",
    "non_human = non_human + stopper_1_fft + stopper_2_fft\n",
    "ventilator = ventilator_1_fft\n",
    "non_human = non_human + wall_1_fft + wall_2_fft + wall_3_fft + ventilator\n",
    "human = human_A_fft + human_B_fft + human_C_fft + human_D_fft + human_E_fft\n",
    "\n",
    "X = human + non_human\n",
    "y = len(human)*['Human'] + len(non_human)*['Non Human']\n",
    "print(\"Human: \",len(human))\n",
    "print(\"Non Human: \",len(non_human))\n",
    "\n",
    "from sklearn.model_selection import train_test_split\n",
    "X_train, X_test, y_train, y_test = train_test_split(X, y, test_size=0.40, random_state=42)"
   ]
  },
  {
   "cell_type": "code",
   "execution_count": 41,
   "metadata": {},
   "outputs": [],
   "source": [
    "from sklearn import preprocessing\n",
    "from sklearn.metrics import accuracy_score\n",
    "from sklearn.metrics import confusion_matrix\n",
    "\n",
    "normalized_X_train = custom_normalization(X_train)\n",
    "normalized_X_test = custom_normalization(X_test)"
   ]
  },
  {
   "cell_type": "code",
   "execution_count": 45,
   "metadata": {},
   "outputs": [
    {
     "name": "stdout",
     "output_type": "stream",
     "text": [
      "Accuracy: 0.9682867186305976\n",
      "Precision: Class A 0.78\n",
      "Precision: Class B 0.98\n",
      "Recall: Class A 0.54\n",
      "Recall: Class B 0.99\n",
      "F1-Score: Class A 0.64\n",
      "F1-Score: Class B 0.98\n",
      "Average F1-score: 0.81\n"
     ]
    },
    {
     "data": {
      "image/png": "[encoded data removed]",
      "text/plain": [
       "<Figure size 720x720 with 2 Axes>"
      ]
     },
     "metadata": {
      "needs_background": "light"
     },
     "output_type": "display_data"
    }
   ],
   "source": [
    "from sklearn.neural_network import MLPClassifier\n",
    "\n",
    "clf = MLPClassifier(solver='lbfgs', alpha=1e-5,hidden_layer_sizes=(38,32), random_state=0,activation=\"relu\")\n",
    "clf.fit(normalized_X_train, y_train)\n",
    "result = clf.predict(normalized_X_test)\n",
    "\n",
    "# print(confusion_matrix(result, y_test))\n",
    "print(\"Accuracy:\", accuracy_score(result, y_test))\n",
    "create_confusion_matrix(result, y_test, ['Human', 'Non Human'])"
   ]
  },
  {
   "cell_type": "code",
   "execution_count": 13,
   "metadata": {},
   "outputs": [
    {
     "data": {
      "text/plain": [
       "2"
      ]
     },
     "execution_count": 13,
     "metadata": {},
     "output_type": "execute_result"
    }
   ],
   "source": [
    "len([1,2])"
   ]
  },
  {
   "cell_type": "code",
   "execution_count": null,
   "metadata": {},
   "outputs": [],
   "source": []
  },
  {
   "cell_type": "code",
   "execution_count": 35,
   "metadata": {},
   "outputs": [
    {
     "data": {
      "text/plain": [
       "13086"
      ]
     },
     "execution_count": 35,
     "metadata": {},
     "output_type": "execute_result"
    }
   ],
   "source": []
  },
  {
   "cell_type": "code",
   "execution_count": 24,
   "metadata": {},
   "outputs": [
    {
     "data": {
      "text/plain": [
       "19629"
      ]
     },
     "execution_count": 24,
     "metadata": {},
     "output_type": "execute_result"
    }
   ],
   "source": [
    "len(X_train)"
   ]
  },
  {
   "cell_type": "code",
   "execution_count": 31,
   "metadata": {},
   "outputs": [],
   "source": [
    "counter_human = 0\n",
    "counter_non_human = 0\n",
    "for a in y_test:\n",
    "    if a =='Human':\n",
    "        counter_human+=1\n",
    "    else:\n",
    "        counter_non_human+=1"
   ]
  },
  {
   "cell_type": "code",
   "execution_count": 37,
   "metadata": {},
   "outputs": [
    {
     "name": "stdout",
     "output_type": "stream",
     "text": [
      "683\n",
      "12403\n"
     ]
    },
    {
     "data": {
      "text/plain": [
       "13086"
      ]
     },
     "execution_count": 37,
     "metadata": {},
     "output_type": "execute_result"
    }
   ],
   "source": [
    "print(counter_human)\n",
    "print(counter_non_human)\n",
    "len(y_test)"
   ]
  },
  {
   "cell_type": "code",
   "execution_count": null,
   "metadata": {},
   "outputs": [],
   "source": []
  }
 ],
 "metadata": {
  "kernelspec": {
   "display_name": "Python 3",
   "language": "python",
   "name": "python3"
  },
  "language_info": {
   "codemirror_mode": {
    "name": "ipython",
    "version": 3
   },
   "file_extension": ".py",
   "mimetype": "text/x-python",
   "name": "python",
   "nbconvert_exporter": "python",
   "pygments_lexer": "ipython3",
   "version": "3.7.2"
  }
 },
 "nbformat": 4,
 "nbformat_minor": 2
}
