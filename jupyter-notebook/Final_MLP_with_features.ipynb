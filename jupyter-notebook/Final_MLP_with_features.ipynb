{
 "cells": [
  {
   "cell_type": "code",
   "execution_count": null,
   "metadata": {},
   "outputs": [],
   "source": [
    "from sklearn.model_selection import train_test_split\n",
    "import numpy as np\n",
    "import pandas as pd\n",
    "\n",
    "# data = pd.read_csv('../Documents/data_set/New_Data_Set/1.14MHz Data/Result/Features/Overall/car_human_pillar_wall_overall.csv')\n",
    "car_data = pd.read_csv('../Documents/data_set/New_Data_Set/1.14MHz Data/Features/car.csv')\n",
    "human_data = pd.read_csv('../Documents/data_set/New_Data_Set/1.14MHz Data/Features/human.csv')\n",
    "pillar_data = pd.read_csv('../Documents/data_set/New_Data_Set/1.14MHz Data/Features/pillar.csv')\n",
    "wall_data = pd.read_csv('../Documents/data_set/New_Data_Set/1.14MHz Data/Features/wall.csv')"
   ]
  }
 ],
 "metadata": {
  "kernelspec": {
   "display_name": "Python 3",
   "language": "python",
   "name": "python3"
  },
  "language_info": {
   "codemirror_mode": {
    "name": "ipython",
    "version": 3
   },
   "file_extension": ".py",
   "mimetype": "text/x-python",
   "name": "python",
   "nbconvert_exporter": "python",
   "pygments_lexer": "ipython3",
   "version": "3.7.2"
  }
 },
 "nbformat": 4,
 "nbformat_minor": 2
}
