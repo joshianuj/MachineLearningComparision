{
 "cells": [
  {
   "cell_type": "code",
   "execution_count": 6,
   "metadata": {},
   "outputs": [],
   "source": [
    "import numpy as np\n",
    "import pandas as pd\n",
    "import xlrd\n",
    "\n",
    "import matplotlib.pyplot as plt\n",
    "from numpy.fft import fft, fftfreq\n",
    "from scipy.signal import butter, lfilter, freqz\n",
    "from scipy import signal\n",
    "\n",
    "from sklearn.model_selection import train_test_split\n",
    "import glob\n",
    "\n",
    "\n",
    "cutoff_low = 60000 #in Hz\n",
    "cutoff_high = 3000\n",
    "# fs = 2380000\n",
    "fs = 1140000\n",
    "order = 5\n",
    "NOISE_SIZE = 0\n",
    "DATA_HEADERS_SIZE = 9\n",
    "\n",
    "def get_fft_set(file_names):\n",
    "    fft_set = []\n",
    "    for files in file_names:\n",
    "        data = pd.read_csv(files)\n",
    "        fft_data = fft_from_data_frame(data)\n",
    "        fft_set = fft_data + fft_set\n",
    "    return fft_set\n",
    "\n",
    "def fft_from_data_frame(data_frame):\n",
    "    fs= 1.14e6\n",
    "    signal_set = []\n",
    "    nan_indexes = np.where(np.any(np.isnan(data_frame.values), axis=1))\n",
    "    data_frame_values = np.delete(data_frame.values, nan_indexes, axis=0)\n",
    "    for row in data_frame_values:\n",
    "        fft_data = fft(row, n=row.size)/row.size\n",
    "        freq = fftfreq(row.size, d=1/fs)\n",
    "        cut_high_signal = abs(fft_data).copy()\n",
    "        cut_high_signal[(freq > 50000)] = 0\n",
    "        cut_high_signal[(freq < 30000)] = 0\n",
    "        signal_without_0 = list(filter(lambda a: a != 0, cut_high_signal))\n",
    "#         signal_set.append(np.abs(signal_without_0))\n",
    "        signal_set.append(np.abs(cut_high_signal))\n",
    "    return signal_set\n",
    "\n",
    "\n",
    "def butter_lowpass(cutoff, fs, order):\n",
    "    nyq = 0.5 * fs\n",
    "    normal_cutoff = cutoff / nyq\n",
    "    b, a = butter(order, normal_cutoff, btype='low', analog=False)\n",
    "    return b, a\n",
    "\n",
    "def butter_highpass(cutoff, fs, order):\n",
    "    nyq = 0.5 * fs\n",
    "    normal_cutoff = cutoff / nyq\n",
    "    b, a = butter(order, normal_cutoff, btype='high', analog=False)\n",
    "    return b, a\n",
    "\n",
    "def butter_lowpass_filter(data):\n",
    "    b, a = butter_lowpass(cutoff_low, fs, order=order)\n",
    "    #y = lfilter(b, a, data)\n",
    "    y = signal.filtfilt(b, a, data)\n",
    "    \n",
    "    b, a = butter_highpass(cutoff_high,fs,order)\n",
    "    y_ = signal.filtfilt(b, a, y)\n",
    "    return y_\n",
    "\n",
    "\n",
    "def plot_graphs(data):\n",
    "    fig = plt.figure(figsize=(30, 20))\n",
    "    for index, data in enumerate(data):\n",
    "        counter = 0\n",
    "        if index < 30:\n",
    "            ax = fig.add_subplot(7,7, index + 1)\n",
    "            ax.plot(data[400:])\n",
    "#             peaks, _ = find_peaks(data, height=0)\n",
    "#             ax.plot(peaks, data[peaks])\n",
    "            \n",
    "def find_echo(data, window_size = 100):\n",
    "    ECHO_SIZE = 1000\n",
    "    rolling_max = data.rolling(window=ECHO_SIZE, axis=1).max()\n",
    "    length = data.shape[1]\n",
    "            \n",
    "            \n",
    "#Step 1 and 2\n",
    "def get_time_domain_without_offset(data_frame):\n",
    "    required_data_frame = data_frame.iloc[:, DATA_HEADERS_SIZE:]\n",
    "    #print(data_frame)\n",
    "    #print(required_data)\n",
    "    return required_data_frame.sub(required_data_frame.mean(axis=1), axis=0)\n",
    "\n",
    "#step 3\n",
    "def pass_filter(data_frame):\n",
    "    new_data= []\n",
    "    for data in human_data_without_offset.values:\n",
    "        new_data.append(butter_lowpass_filter(data))\n",
    "    new_data = np.array(new_data)\n",
    "#     plot_graphs(new_data)\n",
    "    return new_data\n",
    "    "
   ]
  },
  {
   "cell_type": "code",
   "execution_count": 2,
   "metadata": {},
   "outputs": [],
   "source": [
    "human_data = glob.glob('../../data/1mhz_data/human/human_A/110/*.csv')\n",
    "# '../../data/114KHz_Data/Human/Human_A/80/1.csv'\n",
    "human_data = pd.read_csv('../../data/1mhz_data/human/human_A/80/1.csv', skiprows=[0], header= None)\n",
    "human_data_without_offset = get_time_domain_without_offset(human_data)\n",
    "# plot_graphs(human_data_without_offset.values)"
   ]
  },
  {
   "cell_type": "code",
   "execution_count": 5,
   "metadata": {},
   "outputs": [],
   "source": [
    "filtered_values = pass_filter(human_data_without_offset)"
   ]
  },
  {
   "cell_type": "code",
   "execution_count": 55,
   "metadata": {},
   "outputs": [],
   "source": [
    "from scipy.signal import find_peaks\n",
    "THRESHOLD = 0.02\n",
    "\n",
    "def validate_series(data_set_values, WINDOW_SIZE=100):\n",
    "    valid_series = []\n",
    "    dfObj = pd.DataFrame(data_set_values) \n",
    "    variance_list = dfObj.rolling(window=WINDOW_SIZE, axis=1).var()\n",
    "    value = variance_list.values[0]\n",
    "    peaks, _ = find_peaks(value, height=0.02)        \n",
    "    plt.plot(value)\n",
    "    plt.plot(peaks, value[peaks], \"x\")\n",
    "    plt.plot(np.zeros_like(value), \"--\", color=\"gray\")\n",
    "    plt.show()\n",
    "    for index, data in enumerate(variance_list.values):\n",
    "        peaks, _ = find_peaks(data, height=THRESHOLD)\n",
    "        if peaks.size > 0:\n",
    "            valid_series.append(data_set_values[index])\n",
    "    return valid_series"
   ]
  },
  {
   "cell_type": "code",
   "execution_count": 56,
   "metadata": {},
   "outputs": [
    {
     "data": {
      "image/png": "[encoded data removed]",
      "text/plain": [
       "<Figure size 432x288 with 1 Axes>"
      ]
     },
     "metadata": {
      "needs_background": "light"
     },
     "output_type": "display_data"
    }
   ],
   "source": [
    "get_valid_series = validate_series(filtered_values)"
   ]
  },
  {
   "cell_type": "code",
   "execution_count": 54,
   "metadata": {},
   "outputs": [
    {
     "data": {
      "text/plain": [
       "396"
      ]
     },
     "execution_count": 54,
     "metadata": {},
     "output_type": "execute_result"
    }
   ],
   "source": [
    "len(get_valid_series)"
   ]
  },
  {
   "cell_type": "code",
   "execution_count": 57,
   "metadata": {},
   "outputs": [
    {
     "data": {
      "text/plain": [
       "95"
      ]
     },
     "execution_count": 57,
     "metadata": {},
     "output_type": "execute_result"
    }
   ],
   "source": [
    "49 -396"
   ]
  },
  {
   "cell_type": "code",
   "execution_count": null,
   "metadata": {},
   "outputs": [],
   "source": []
  }
 ],
 "metadata": {
  "kernelspec": {
   "display_name": "Python 3",
   "language": "python",
   "name": "python3"
  },
  "language_info": {
   "codemirror_mode": {
    "name": "ipython",
    "version": 3
   },
   "file_extension": ".py",
   "mimetype": "text/x-python",
   "name": "python",
   "nbconvert_exporter": "python",
   "pygments_lexer": "ipython3",
   "version": "3.7.2"
  }
 },
 "nbformat": 4,
 "nbformat_minor": 2
}
