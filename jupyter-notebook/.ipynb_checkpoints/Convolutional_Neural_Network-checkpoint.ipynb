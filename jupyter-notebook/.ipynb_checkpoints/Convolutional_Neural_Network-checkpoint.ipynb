{
 "cells": [
  {
   "cell_type": "code",
   "execution_count": 5,
   "metadata": {},
   "outputs": [],
   "source": [
    "import keras\n",
    "from keras.models import Sequential\n",
    "from keras.layers.core import Dense, Dropout, Flatten, Activation\n",
    "from keras.layers.convolutional import Convolution2D, MaxPooling2D, Conv2D\n",
    "from sklearn.model_selection import train_test_split\n",
    "import numpy as np\n",
    "import pandas as pd\n",
    "\n",
    "# data = pd.read_csv('../Documents/data_set/New_Data_Set/1.14MHz Data/Result/Features/Overall/car_human_pillar_wall_overall.csv')\n",
    "car_data = pd.read_csv('../Documents/data_set/New_Data_Set/1.14MHz Data/Features/car.csv')\n",
    "human_data = pd.read_csv('../Documents/data_set/New_Data_Set/1.14MHz Data/Features/human.csv')\n",
    "pillar_data = pd.read_csv('../Documents/data_set/New_Data_Set/1.14MHz Data/Features/pillar.csv')\n",
    "wall_data = pd.read_csv('../Documents/data_set/New_Data_Set/1.14MHz Data/Features/wall.csv')"
   ]
  },
  {
   "cell_type": "code",
   "execution_count": 6,
   "metadata": {},
   "outputs": [
    {
     "data": {
      "text/plain": [
       "((13143, 40), (11663, 40), (5820, 40), (5556, 40))"
      ]
     },
     "execution_count": 6,
     "metadata": {},
     "output_type": "execute_result"
    }
   ],
   "source": [
    "car_data.shape, human_data.shape, pillar_data.shape, wall_data.shape"
   ]
  },
  {
   "cell_type": "code",
   "execution_count": 18,
   "metadata": {},
   "outputs": [],
   "source": [
    "human = human_data.loc[human_data['type'] == 'HUMAN'].iloc[:,4:]\n",
    "car = car_data.loc[car_data['type'] == 'CAR'].iloc[:,4:]\n",
    "pillar = pillar_data.loc[pillar_data['type'] == 'PILLAR'].iloc[:,4:]\n",
    "wall = wall_data.loc[wall_data['type'] == 'WALL'].iloc[:,4:]"
   ]
  },
  {
   "cell_type": "code",
   "execution_count": 63,
   "metadata": {},
   "outputs": [],
   "source": [
    "human_label = ['HUMAN']*human.shape[0]\n",
    "car_label = ['CAR']*car.shape[0]\n",
    "wall_label = ['WALL']*wall.shape[0]\n",
    "pillar_label = ['PILLAR']*pillar.shape[0]\n",
    "non_human_label = ['NON_HUMAN']*(car.shape[0] +wall.shape[0] + pillar.shape[0])"
   ]
  },
  {
   "cell_type": "code",
   "execution_count": 122,
   "metadata": {},
   "outputs": [],
   "source": [
    "# X_human_train, X_human_test, y_human_train, y_human_test = train_test_split(human.values, ['HUMAN']*human.shape[0], test_size=0.2, random_state=42)\n",
    "# X_car_train, X_car_test, y_car_train, y_car_test = train_test_split(car.values, ['CAR']*car.shape[0], test_size=0.2, random_state=42)\n",
    "# X_wall_train, X_wall_test, y_wall_train, y_wall_test = train_test_split(wall.values, ['WALL']*wall.shape[0], test_size=0.2, random_state=42)\n",
    "# X_pillar_train, X_pillar_test, y_pillar_train, y_pillar_test = train_test_split(pillar.values, ['PILLAR']*pillar.shape[0], test_size=0.2, random_state=42)\n",
    "\n",
    "label = human_label + non_human_label\n",
    "data = human.values.tolist() + car.values.tolist() + wall.values.tolist() + pillar.values.tolist()\n",
    "\n",
    "\n",
    "from sklearn.preprocessing import LabelBinarizer, LabelEncoder\n",
    "label_encoder = LabelEncoder()\n",
    "label_encoded = label_encoder.fit_transform(label)\n",
    "\n",
    "train_X, test_X, train_y, test_y = train_test_split(data, label_encoded, test_size=0.2, random_state=42)"
   ]
  },
  {
   "cell_type": "code",
   "execution_count": 124,
   "metadata": {},
   "outputs": [
    {
     "data": {
      "text/plain": [
       "(28945, 7237, 28945, 7237)"
      ]
     },
     "execution_count": 124,
     "metadata": {},
     "output_type": "execute_result"
    }
   ],
   "source": [
    "len(train_X), len(test_X), len(train_y), len(test_y)"
   ]
  },
  {
   "cell_type": "code",
   "execution_count": 72,
   "metadata": {},
   "outputs": [],
   "source": [
    "from sklearn import preprocessing\n",
    "normalized_X_train = preprocessing.normalize(train_X)\n",
    "normalized_X_test = preprocessing.normalize(test_X)"
   ]
  },
  {
   "cell_type": "code",
   "execution_count": 102,
   "metadata": {},
   "outputs": [
    {
     "data": {
      "text/plain": [
       "((28945, 5, 5, 1), (7237, 5, 5, 1))"
      ]
     },
     "execution_count": 102,
     "metadata": {},
     "output_type": "execute_result"
    }
   ],
   "source": [
    "train_X = np.array(normalized_X_train)[:,1:26].reshape(-1,5,5,1)\n",
    "test_X =  np.array(normalized_X_test)[:,1:26].reshape(-1,5,5,1)\n",
    "\n",
    "train_X.shape, test_X.shape"
   ]
  },
  {
   "cell_type": "code",
   "execution_count": 104,
   "metadata": {},
   "outputs": [
    {
     "name": "stdout",
     "output_type": "stream",
     "text": [
      "Total number of outputs :  2\n",
      "Output classes :  [0 1]\n"
     ]
    }
   ],
   "source": [
    "classes = np.unique(train_y)\n",
    "nClasses = len(classes)\n",
    "print('Total number of outputs : ', nClasses)\n",
    "print('Output classes : ', classes)"
   ]
  },
  {
   "cell_type": "code",
   "execution_count": 45,
   "metadata": {},
   "outputs": [],
   "source": [
    "# import matplotlib.pyplot as plt\n",
    "# plt.figure(figsize=[5,5])\n",
    "\n",
    "# # Display the first image in training data\n",
    "# plt.subplot(121)\n",
    "# plt.imshow(train_X[1000,:,:], cmap='gray')\n",
    "# # plt.title(\"Ground Truth : {}\".format(train_Y[0]))\n",
    "\n",
    "# # Display the first image in testing data\n",
    "# plt.subplot(122)\n",
    "# plt.imshow(test_X[1000,:,:], cmap='gray')\n",
    "# # plt.title(\"Ground Truth : {}\".format(test_Y[0]))"
   ]
  },
  {
   "cell_type": "code",
   "execution_count": 105,
   "metadata": {},
   "outputs": [
    {
     "data": {
      "text/plain": [
       "((28945, 5, 5, 1), (7237, 5, 5, 1), (28945,), (7237,))"
      ]
     },
     "execution_count": 105,
     "metadata": {},
     "output_type": "execute_result"
    }
   ],
   "source": [
    "train_X = train_X.astype('float32')\n",
    "test_X = test_X.astype('float32')\n",
    "\n",
    "train_X.shape, test_X.shape, train_y.shape, test_y.shape"
   ]
  },
  {
   "cell_type": "code",
   "execution_count": 107,
   "metadata": {},
   "outputs": [
    {
     "name": "stdout",
     "output_type": "stream",
     "text": [
      "Original label: 1\n",
      "After conversion to one-hot: [0. 1.]\n",
      "(28945, 2)\n",
      "(7237, 2)\n"
     ]
    }
   ],
   "source": [
    "from keras.utils import to_categorical\n",
    "\n",
    "# Change the labels from categorical to one-hot encoding\n",
    "train_Y_one_hot = keras.utils.to_categorical(train_y)\n",
    "test_Y_one_hot = keras.utils.to_categorical(test_y)\n",
    "\n",
    "# Display the change for category label using one-hot encoding\n",
    "print('Original label:', train_y[0])\n",
    "print('After conversion to one-hot:', train_Y_one_hot[0])\n",
    "\n",
    "print(train_Y_one_hot.shape)\n",
    "print(test_Y_one_hot.shape)"
   ]
  },
  {
   "cell_type": "code",
   "execution_count": 108,
   "metadata": {},
   "outputs": [
    {
     "data": {
      "text/plain": [
       "((20261, 5, 5, 1), (8684, 5, 5, 1), (20261, 2), (8684, 2))"
      ]
     },
     "execution_count": 108,
     "metadata": {},
     "output_type": "execute_result"
    }
   ],
   "source": [
    "train_X,valid_X,train_label,valid_label = train_test_split(train_X, train_Y_one_hot, test_size=0.3, random_state=13)\n",
    "train_X.shape,valid_X.shape,train_label.shape,valid_label.shape"
   ]
  },
  {
   "cell_type": "code",
   "execution_count": 110,
   "metadata": {},
   "outputs": [],
   "source": [
    "import keras\n",
    "from keras.models import Sequential,Input,Model\n",
    "from keras.layers import Dense, Dropout, Flatten\n",
    "from keras.layers import Conv2D, MaxPooling2D\n",
    "from keras.layers.normalization import BatchNormalization\n",
    "from keras.layers.advanced_activations import LeakyReLU\n",
    "\n",
    "epochs = 50\n",
    "num_classes = 2\n",
    "\n",
    "fashion_model = Sequential()\n",
    "\n",
    "fashion_model.add(Conv2D(128, kernel_size=(1, 1),activation='linear',input_shape=(5,5,1)))\n",
    "fashion_model.add(Activation('relu'))\n",
    "fashion_model.add(MaxPooling2D((1, 1),padding='same'))\n",
    "\n",
    "# fashion_model.add(Dropout(0.25))\n",
    "\n",
    "fashion_model.add(Conv2D(64, (1, 1), activation='linear',padding='same'))\n",
    "fashion_model.add(Activation('relu'))\n",
    "fashion_model.add(MaxPooling2D(pool_size=(2, 2),padding='same'))\n",
    "\n",
    "# fashion_model.add(Dropout(0.25))\n",
    "\n",
    "# fashion_model.add(Conv2D(128, (2, 2), activation='linear',padding='same'))\n",
    "# fashion_model.add(Activation('relu'))                 \n",
    "# fashion_model.add(MaxPooling2D(pool_size=(2, 2),padding='same'))\n",
    "\n",
    "# fashion_model.add(Dropout(0.4))\n",
    "\n",
    "fashion_model.add(Flatten())\n",
    "fashion_model.add(Dense(32, activation='linear'))\n",
    "fashion_model.add(Activation('relu'))          \n",
    "# fashion_model.add(Dropout(0.3))\n",
    "fashion_model.add(Dense(num_classes, activation='softmax'))\n",
    "\n",
    "fashion_model.compile(optimizer='adam', loss='categorical_crossentropy', metrics=['accuracy'])\n",
    "# fashion_model.compile(loss=keras.losses.categorical_crossentropy, optimizer=keras.optimizers.Adam(),metrics=['accuracy'])"
   ]
  },
  {
   "cell_type": "code",
   "execution_count": 111,
   "metadata": {},
   "outputs": [
    {
     "name": "stdout",
     "output_type": "stream",
     "text": [
      "Model: \"sequential_2\"\n",
      "_________________________________________________________________\n",
      "Layer (type)                 Output Shape              Param #   \n",
      "=================================================================\n",
      "conv2d_3 (Conv2D)            (None, 5, 5, 128)         256       \n",
      "_________________________________________________________________\n",
      "activation_4 (Activation)    (None, 5, 5, 128)         0         \n",
      "_________________________________________________________________\n",
      "max_pooling2d_3 (MaxPooling2 (None, 5, 5, 128)         0         \n",
      "_________________________________________________________________\n",
      "conv2d_4 (Conv2D)            (None, 5, 5, 64)          8256      \n",
      "_________________________________________________________________\n",
      "activation_5 (Activation)    (None, 5, 5, 64)          0         \n",
      "_________________________________________________________________\n",
      "max_pooling2d_4 (MaxPooling2 (None, 3, 3, 64)          0         \n",
      "_________________________________________________________________\n",
      "flatten_2 (Flatten)          (None, 576)               0         \n",
      "_________________________________________________________________\n",
      "dense_3 (Dense)              (None, 32)                18464     \n",
      "_________________________________________________________________\n",
      "activation_6 (Activation)    (None, 32)                0         \n",
      "_________________________________________________________________\n",
      "dense_4 (Dense)              (None, 2)                 66        \n",
      "=================================================================\n",
      "Total params: 27,042\n",
      "Trainable params: 27,042\n",
      "Non-trainable params: 0\n",
      "_________________________________________________________________\n"
     ]
    }
   ],
   "source": [
    "fashion_model.summary()"
   ]
  },
  {
   "cell_type": "code",
   "execution_count": 112,
   "metadata": {
    "scrolled": false
   },
   "outputs": [
    {
     "name": "stdout",
     "output_type": "stream",
     "text": [
      "Train on 20261 samples, validate on 8684 samples\n",
      "Epoch 1/50\n",
      "20261/20261 [==============================] - 6s 319us/step - loss: 0.5458 - accuracy: 0.7320 - val_loss: 0.4054 - val_accuracy: 0.8144\n",
      "Epoch 2/50\n",
      "20261/20261 [==============================] - 6s 302us/step - loss: 0.3941 - accuracy: 0.8351 - val_loss: 0.3674 - val_accuracy: 0.8546\n",
      "Epoch 3/50\n",
      "20261/20261 [==============================] - 8s 391us/step - loss: 0.3686 - accuracy: 0.8479 - val_loss: 0.3621 - val_accuracy: 0.8515\n",
      "Epoch 4/50\n",
      "20261/20261 [==============================] - 7s 340us/step - loss: 0.3660 - accuracy: 0.8452 - val_loss: 0.3500 - val_accuracy: 0.8533\n",
      "Epoch 5/50\n",
      "20261/20261 [==============================] - 7s 325us/step - loss: 0.3517 - accuracy: 0.8524 - val_loss: 0.3377 - val_accuracy: 0.8596\n",
      "Epoch 6/50\n",
      "20261/20261 [==============================] - 6s 308us/step - loss: 0.3437 - accuracy: 0.8560 - val_loss: 0.3369 - val_accuracy: 0.8607\n",
      "Epoch 7/50\n",
      "20261/20261 [==============================] - 7s 334us/step - loss: 0.3464 - accuracy: 0.8546 - val_loss: 0.3429 - val_accuracy: 0.8585\n",
      "Epoch 8/50\n",
      "20261/20261 [==============================] - 6s 308us/step - loss: 0.3370 - accuracy: 0.8590 - val_loss: 0.3258 - val_accuracy: 0.8648\n",
      "Epoch 9/50\n",
      "20261/20261 [==============================] - 6s 300us/step - loss: 0.3346 - accuracy: 0.8584 - val_loss: 0.3185 - val_accuracy: 0.8664\n",
      "Epoch 10/50\n",
      "20261/20261 [==============================] - 6s 303us/step - loss: 0.3280 - accuracy: 0.8608 - val_loss: 0.3353 - val_accuracy: 0.8605\n",
      "Epoch 11/50\n",
      "20261/20261 [==============================] - 7s 325us/step - loss: 0.3247 - accuracy: 0.8621 - val_loss: 0.3070 - val_accuracy: 0.8713\n",
      "Epoch 12/50\n",
      "20261/20261 [==============================] - 7s 335us/step - loss: 0.3204 - accuracy: 0.8634 - val_loss: 0.3046 - val_accuracy: 0.8718\n",
      "Epoch 13/50\n",
      "20261/20261 [==============================] - 6s 320us/step - loss: 0.3175 - accuracy: 0.8668 - val_loss: 0.3112 - val_accuracy: 0.8658\n",
      "Epoch 14/50\n",
      "20261/20261 [==============================] - 7s 344us/step - loss: 0.3148 - accuracy: 0.8690 - val_loss: 0.3040 - val_accuracy: 0.8748\n",
      "Epoch 15/50\n",
      "20261/20261 [==============================] - 8s 383us/step - loss: 0.3126 - accuracy: 0.8663 - val_loss: 0.3088 - val_accuracy: 0.8738\n",
      "Epoch 16/50\n",
      "20261/20261 [==============================] - 7s 342us/step - loss: 0.3127 - accuracy: 0.8672 - val_loss: 0.2927 - val_accuracy: 0.8775\n",
      "Epoch 17/50\n",
      "20261/20261 [==============================] - 7s 324us/step - loss: 0.3058 - accuracy: 0.8708 - val_loss: 0.2948 - val_accuracy: 0.8725\n",
      "Epoch 18/50\n",
      "20261/20261 [==============================] - 7s 338us/step - loss: 0.3009 - accuracy: 0.8730 - val_loss: 0.3203 - val_accuracy: 0.8650\n",
      "Epoch 19/50\n",
      "20261/20261 [==============================] - 6s 315us/step - loss: 0.2975 - accuracy: 0.8734 - val_loss: 0.2867 - val_accuracy: 0.8814\n",
      "Epoch 20/50\n",
      "20261/20261 [==============================] - 6s 311us/step - loss: 0.2992 - accuracy: 0.8723 - val_loss: 0.2994 - val_accuracy: 0.8706\n",
      "Epoch 21/50\n",
      "20261/20261 [==============================] - 6s 319us/step - loss: 0.2927 - accuracy: 0.8759 - val_loss: 0.2809 - val_accuracy: 0.8827\n",
      "Epoch 22/50\n",
      "20261/20261 [==============================] - 7s 333us/step - loss: 0.2876 - accuracy: 0.8773 - val_loss: 0.2819 - val_accuracy: 0.8806\n",
      "Epoch 23/50\n",
      "20261/20261 [==============================] - 6s 312us/step - loss: 0.2950 - accuracy: 0.8754 - val_loss: 0.2865 - val_accuracy: 0.8802\n",
      "Epoch 24/50\n",
      "20261/20261 [==============================] - 6s 305us/step - loss: 0.2869 - accuracy: 0.8788 - val_loss: 0.3073 - val_accuracy: 0.8718\n",
      "Epoch 25/50\n",
      "20261/20261 [==============================] - 8s 372us/step - loss: 0.2843 - accuracy: 0.8804 - val_loss: 0.3034 - val_accuracy: 0.8739\n",
      "Epoch 26/50\n",
      "20261/20261 [==============================] - 7s 347us/step - loss: 0.2865 - accuracy: 0.8779 - val_loss: 0.2865 - val_accuracy: 0.8777\n",
      "Epoch 27/50\n",
      "20261/20261 [==============================] - 6s 311us/step - loss: 0.2819 - accuracy: 0.8797 - val_loss: 0.2742 - val_accuracy: 0.8828\n",
      "Epoch 28/50\n",
      "20261/20261 [==============================] - 7s 333us/step - loss: 0.2796 - accuracy: 0.8811 - val_loss: 0.3149 - val_accuracy: 0.8657\n",
      "Epoch 29/50\n",
      "20261/20261 [==============================] - 6s 301us/step - loss: 0.2839 - accuracy: 0.8796 - val_loss: 0.2730 - val_accuracy: 0.8843\n",
      "Epoch 30/50\n",
      "20261/20261 [==============================] - 6s 296us/step - loss: 0.2806 - accuracy: 0.8796 - val_loss: 0.2792 - val_accuracy: 0.8794\n",
      "Epoch 31/50\n",
      "20261/20261 [==============================] - 7s 322us/step - loss: 0.2812 - accuracy: 0.8814 - val_loss: 0.2650 - val_accuracy: 0.8876\n",
      "Epoch 32/50\n",
      "20261/20261 [==============================] - 7s 325us/step - loss: 0.2765 - accuracy: 0.8835 - val_loss: 0.2693 - val_accuracy: 0.8852\n",
      "Epoch 33/50\n",
      "20261/20261 [==============================] - 7s 324us/step - loss: 0.2716 - accuracy: 0.8852 - val_loss: 0.2944 - val_accuracy: 0.8768\n",
      "Epoch 34/50\n",
      "20261/20261 [==============================] - 7s 357us/step - loss: 0.2763 - accuracy: 0.8831 - val_loss: 0.3674 - val_accuracy: 0.8500\n",
      "Epoch 35/50\n",
      "20261/20261 [==============================] - 7s 351us/step - loss: 0.2743 - accuracy: 0.8838 - val_loss: 0.2739 - val_accuracy: 0.8859\n",
      "Epoch 36/50\n",
      "20261/20261 [==============================] - 7s 336us/step - loss: 0.2748 - accuracy: 0.8853 - val_loss: 0.3261 - val_accuracy: 0.8660\n",
      "Epoch 37/50\n",
      "20261/20261 [==============================] - 7s 343us/step - loss: 0.2700 - accuracy: 0.8874 - val_loss: 0.2653 - val_accuracy: 0.8871\n",
      "Epoch 38/50\n",
      "20261/20261 [==============================] - 6s 314us/step - loss: 0.2687 - accuracy: 0.8854 - val_loss: 0.2859 - val_accuracy: 0.8815\n",
      "Epoch 39/50\n",
      "20261/20261 [==============================] - 6s 308us/step - loss: 0.2691 - accuracy: 0.8883 - val_loss: 0.2699 - val_accuracy: 0.8861\n",
      "Epoch 40/50\n",
      "20261/20261 [==============================] - 6s 309us/step - loss: 0.2651 - accuracy: 0.8884 - val_loss: 0.2629 - val_accuracy: 0.8908\n",
      "Epoch 41/50\n",
      "20261/20261 [==============================] - 7s 336us/step - loss: 0.2648 - accuracy: 0.8872 - val_loss: 0.2663 - val_accuracy: 0.8893\n",
      "Epoch 42/50\n",
      "20261/20261 [==============================] - 6s 314us/step - loss: 0.2629 - accuracy: 0.8886 - val_loss: 0.2973 - val_accuracy: 0.8740\n",
      "Epoch 43/50\n",
      "20261/20261 [==============================] - 6s 289us/step - loss: 0.2648 - accuracy: 0.8890 - val_loss: 0.2611 - val_accuracy: 0.8843\n",
      "Epoch 44/50\n",
      "20261/20261 [==============================] - 6s 316us/step - loss: 0.2636 - accuracy: 0.8887 - val_loss: 0.2579 - val_accuracy: 0.8924\n",
      "Epoch 45/50\n",
      "20261/20261 [==============================] - 6s 298us/step - loss: 0.2678 - accuracy: 0.8866 - val_loss: 0.2650 - val_accuracy: 0.8914\n",
      "Epoch 46/50\n",
      "20261/20261 [==============================] - 7s 329us/step - loss: 0.2623 - accuracy: 0.8911 - val_loss: 0.2666 - val_accuracy: 0.8868\n",
      "Epoch 47/50\n",
      "20261/20261 [==============================] - 7s 340us/step - loss: 0.2614 - accuracy: 0.8897 - val_loss: 0.2589 - val_accuracy: 0.8904\n",
      "Epoch 48/50\n",
      "20261/20261 [==============================] - 6s 309us/step - loss: 0.2581 - accuracy: 0.8909 - val_loss: 0.2567 - val_accuracy: 0.8930\n",
      "Epoch 49/50\n",
      "20261/20261 [==============================] - 7s 324us/step - loss: 0.2577 - accuracy: 0.8921 - val_loss: 0.2576 - val_accuracy: 0.8892\n",
      "Epoch 50/50\n",
      "20261/20261 [==============================] - 7s 328us/step - loss: 0.2621 - accuracy: 0.8885 - val_loss: 0.2804 - val_accuracy: 0.8822\n"
     ]
    }
   ],
   "source": [
    "fashion_train_dropout = fashion_model.fit(train_X, train_label,epochs=epochs,validation_data=(valid_X, valid_label))"
   ]
  },
  {
   "cell_type": "code",
   "execution_count": 23,
   "metadata": {},
   "outputs": [],
   "source": [
    "fashion_model.save(\"CNN_model.h5py\")"
   ]
  },
  {
   "cell_type": "code",
   "execution_count": 113,
   "metadata": {},
   "outputs": [
    {
     "name": "stdout",
     "output_type": "stream",
     "text": [
      "7237/7237 [==============================] - 1s 136us/step\n"
     ]
    },
    {
     "data": {
      "text/plain": [
       "[0.2892666509159036, 0.8804753422737122]"
      ]
     },
     "execution_count": 113,
     "metadata": {},
     "output_type": "execute_result"
    }
   ],
   "source": [
    "test_eval = fashion_model.evaluate(test_X, test_Y_one_hot)\n",
    "test_eval"
   ]
  },
  {
   "cell_type": "code",
   "execution_count": 115,
   "metadata": {},
   "outputs": [
    {
     "data": {
      "text/plain": [
       "((7237,), (7237,))"
      ]
     },
     "execution_count": 115,
     "metadata": {},
     "output_type": "execute_result"
    }
   ],
   "source": [
    "predicted_classes = fashion_model.predict(test_X)\n",
    "predicted_classes = np.argmax(np.round(predicted_classes),axis=1)\n",
    "predicted_classes.shape, test_y.shape"
   ]
  },
  {
   "cell_type": "code",
   "execution_count": 41,
   "metadata": {},
   "outputs": [
    {
     "name": "stdout",
     "output_type": "stream",
     "text": [
      "Found correct labels 793\n"
     ]
    }
   ],
   "source": [
    "# correct = np.where(predicted_classes==test_Y)[0]\n",
    "# print (\"Found correct labels\", len(correct))\n",
    "# # for i, correct in enumerate(correct[:9]):\n",
    "# #     plt.subplot(3,3,i+1)\n",
    "# #     plt.imshow(test_X[correct].reshape(9,9), cmap='gray', interpolation='none')\n",
    "# #     plt.title(\"Predicted {}, Class {}\".format(predicted_classes[correct], test_Y[correct]))\n",
    "# #     plt.tight_layout()\n",
    "\n",
    "# incorrect = np.where(predicted_classes!=test_Y)[0]\n",
    "# print (\"Found incorrect labels\", len(incorrect))\n",
    "# # for i, incorrect in enumerate(incorrect[:9]):\n",
    "# #     plt.subplot(3,3,i+1)\n",
    "# #     plt.imshow(test_X[incorrect].reshape(9,9), cmap='gray', interpolation='none')\n",
    "# #     plt.title(\"Predicted {}, Class {}\".format(predicted_classes[incorrect], test_Y[incorrect]))\n",
    "# #     plt.tight_layout()"
   ]
  },
  {
   "cell_type": "code",
   "execution_count": 117,
   "metadata": {},
   "outputs": [
    {
     "name": "stdout",
     "output_type": "stream",
     "text": [
      "              precision    recall  f1-score   support\n",
      "\n",
      "     Class 0       0.76      0.91      0.83      2334\n",
      "     Class 1       0.95      0.86      0.91      4903\n",
      "\n",
      "    accuracy                           0.88      7237\n",
      "   macro avg       0.86      0.89      0.87      7237\n",
      "weighted avg       0.89      0.88      0.88      7237\n",
      "\n"
     ]
    }
   ],
   "source": [
    "from sklearn.metrics import classification_report\n",
    "target_names = [\"Class {}\".format(i) for i in range(num_classes)]\n",
    "print(classification_report(test_y, predicted_classes, target_names=target_names))"
   ]
  },
  {
   "cell_type": "code",
   "execution_count": 120,
   "metadata": {},
   "outputs": [
    {
     "name": "stdout",
     "output_type": "stream",
     "text": [
      "0.8804753350835982\n",
      "Precision: Class A 0.76\n",
      "Precision: Class B 0.95\n",
      "Recall: Class A 0.91\n",
      "Recall: Class B 0.86\n",
      "F1-Score: Class A 0.83\n",
      "F1-Score: Class B 0.91\n",
      "Average F1-score: 0.87\n"
     ]
    },
    {
     "data": {
      "image/png": "[encoded data removed]",
      "text/plain": [
       "<Figure size 720x720 with 2 Axes>"
      ]
     },
     "metadata": {
      "needs_background": "light"
     },
     "output_type": "display_data"
    }
   ],
   "source": [
    "from sklearn.metrics import confusion_matrix\n",
    "from sklearn.metrics import accuracy_score, confusion_matrix\n",
    "\n",
    "def create_confusion_matrix(y_test, result):\n",
    "    cm = confusion_matrix(y_test, result)\n",
    "    import seaborn as sns\n",
    "    import matplotlib.pyplot as plt     \n",
    "    sum = np.sum(cm, axis=1)\n",
    "    score = accuracy_score(y_test, result)\n",
    "    print(score)\n",
    "    \n",
    "    from sklearn.metrics import precision_score, recall_score, f1_score\n",
    "    \n",
    "    precision_CLASS_A = round(precision_score(y_test, result, average='binary',pos_label=0),2)\n",
    "    precision_CLASS_B = round(precision_score(y_test, result, average='binary',pos_label=1),2)\n",
    "    recall_CLASS_A = round(recall_score(y_test, result, average='binary',pos_label=0),2)\n",
    "    recall_CLASS_B = round(recall_score(y_test, result, average='binary',pos_label=1),2)\n",
    "    f1_CLASS_A = round(f1_score(y_test, result, average='binary',pos_label=0),2)\n",
    "    f1_CLASS_B = round(f1_score(y_test, result, average='binary',pos_label=1),2)\n",
    "    f1_average = round((f1_CLASS_A + f1_CLASS_B)/2, 2);\n",
    "    print('Precision: Class A',precision_CLASS_A)\n",
    "    print('Precision: Class B',precision_CLASS_B)\n",
    "    print('Recall: Class A',recall_CLASS_A)\n",
    "    print('Recall: Class B',recall_CLASS_B)\n",
    "    print('F1-Score: Class A',f1_CLASS_A)\n",
    "    print('F1-Score: Class B',f1_CLASS_B)\n",
    "    print('Average F1-score:', f1_average)\n",
    "        \n",
    "    cm_new = np.append(cm[0], recall_CLASS_A)\n",
    "    cm_new2 = np.append(cm[1], recall_CLASS_B)\n",
    "    cm_new3 = np.array([precision_CLASS_A, precision_CLASS_B, score])\n",
    "    cm = np.array([cm_new,cm_new2,cm_new3])\n",
    "    \n",
    "    fig, ax = plt.subplots(figsize=(10,10))\n",
    "    sns.heatmap(cm, annot=True, ax = ax,linewidths=.5,fmt='g',cmap=\"Reds\"); #annot=True to annotate cells\n",
    "\n",
    "    # labels, title and ticks\n",
    "    ax.set_xlabel('Predicted labels');\n",
    "    ax.set_ylabel('True labels'); \n",
    "    ax.set_title('CNN Confusion Matrix'); \n",
    "    counter = 0\n",
    "    for i in range(0,2):\n",
    "        for j in range(0,3):\n",
    "            percentage = cm[i][j]/sum[i]\n",
    "            t = ax.texts[counter]\n",
    "            if j == 2:\n",
    "                t.set_text(str(cm[i][j]))\n",
    "            else:\n",
    "                t.set_text(str(cm[i][j]) + '\\n' + str(round(percentage*100,2)) + \" %\")\n",
    "            counter = counter + 1\n",
    "    labels = ['Human', 'Non Human']\n",
    "    ax.xaxis.set_ticklabels(labels)\n",
    "    ax.yaxis.set_ticklabels(labels);\n",
    "\n",
    "create_confusion_matrix(test_y, predicted_classes)"
   ]
  },
  {
   "cell_type": "code",
   "execution_count": null,
   "metadata": {},
   "outputs": [],
   "source": []
  }
 ],
 "metadata": {
  "kernelspec": {
   "display_name": "Python 3",
   "language": "python",
   "name": "python3"
  },
  "language_info": {
   "codemirror_mode": {
    "name": "ipython",
    "version": 3
   },
   "file_extension": ".py",
   "mimetype": "text/x-python",
   "name": "python",
   "nbconvert_exporter": "python",
   "pygments_lexer": "ipython3",
   "version": "3.7.2"
  }
 },
 "nbformat": 4,
 "nbformat_minor": 2
}
